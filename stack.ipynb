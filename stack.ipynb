{
  "nbformat": 4,
  "nbformat_minor": 0,
  "metadata": {
    "colab": {
      "name": "stack.ipynb",
      "provenance": [],
      "authorship_tag": "ABX9TyPbinfs79ZS8art7nSFIASk",
      "include_colab_link": true
    },
    "kernelspec": {
      "name": "python3",
      "display_name": "Python 3"
    },
    "language_info": {
      "name": "python"
    }
  },
  "cells": [
    {
      "cell_type": "markdown",
      "metadata": {
        "id": "view-in-github",
        "colab_type": "text"
      },
      "source": [
        "<a href=\"https://colab.research.google.com/github/fragenabhishek/python/blob/main/stack.ipynb\" target=\"_parent\"><img src=\"https://colab.research.google.com/assets/colab-badge.svg\" alt=\"Open In Colab\"/></a>"
      ]
    },
    {
      "cell_type": "code",
      "execution_count": 8,
      "metadata": {
        "id": "aW7U0Vi92GdS"
      },
      "outputs": [],
      "source": [
        "class Stack:\n",
        "\n",
        "  def __init__(self):\n",
        "    self.items = []\n",
        "\n",
        "  def is_empty(self):\n",
        "    return len(self.items) == 0\n",
        "    #return not self.items\n",
        "\n",
        "  def push(self,item):\n",
        "    self.items.append(item)\n",
        "\n",
        "  def pop(self):\n",
        "    return self.items.pop()\n",
        "\n",
        "  def peek(self):\n",
        "    return self.items[-1]    \n",
        "\n",
        "  def size(self):\n",
        "    return len(self.items)\n",
        "\n",
        "  def __str__(self):\n",
        "    return str(self.items)    \n",
        "\n",
        "\n",
        "\n",
        "\n"
      ]
    },
    {
      "cell_type": "code",
      "source": [
        "if __name__ == \"__main__\":\n",
        "  s = Stack()\n",
        "  print(s.is_empty())\n",
        "  s.push(8)\n",
        "  s.push(7)\n",
        "  s.push(6)\n",
        "  print(s)\n",
        "  print(s.pop())\n",
        "  print(s)\n",
        "  print(s.is_empty())\n",
        "  print(s.size())\n",
        "  print(s.peek())\n",
        "  print(s)\n",
        "  "
      ],
      "metadata": {
        "colab": {
          "base_uri": "https://localhost:8080/"
        },
        "id": "qC7MF1V94zDf",
        "outputId": "2ef3ed93-e20c-49b2-fc55-b09c37599a83"
      },
      "execution_count": 19,
      "outputs": [
        {
          "output_type": "stream",
          "name": "stdout",
          "text": [
            "True\n",
            "[8, 7, 6]\n",
            "6\n",
            "[8, 7]\n",
            "False\n",
            "2\n",
            "7\n",
            "[8, 7]\n"
          ]
        }
      ]
    },
    {
      "cell_type": "code",
      "source": [
        ""
      ],
      "metadata": {
        "id": "jyYv6vlZ5KeD"
      },
      "execution_count": null,
      "outputs": []
    }
  ]
}