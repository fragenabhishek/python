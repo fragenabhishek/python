{
  "nbformat": 4,
  "nbformat_minor": 0,
  "metadata": {
    "colab": {
      "name": "Read_file.ipynb",
      "provenance": [],
      "authorship_tag": "ABX9TyN5gstuYrRhKXLLwGwPH20F",
      "include_colab_link": true
    },
    "kernelspec": {
      "name": "python3",
      "display_name": "Python 3"
    },
    "language_info": {
      "name": "python"
    }
  },
  "cells": [
    {
      "cell_type": "markdown",
      "metadata": {
        "id": "view-in-github",
        "colab_type": "text"
      },
      "source": [
        "<a href=\"https://colab.research.google.com/github/fragenabhishek/python/blob/main/Read_file.ipynb\" target=\"_parent\"><img src=\"https://colab.research.google.com/assets/colab-badge.svg\" alt=\"Open In Colab\"/></a>"
      ]
    },
    {
      "cell_type": "code",
      "execution_count": 8,
      "metadata": {
        "id": "ulL94uii8Ve5"
      },
      "outputs": [],
      "source": [
        "def read_file(file_name):\n",
        "  try:\n",
        "    with open(file_name) as file:\n",
        "      # maze = [[char for char in line.strip(\"\\n\")] for line in file]\n",
        "      # num_of_cols_top_maze = len(maze[0])\n",
        "      # for row in maze:\n",
        "        # if len(row) != num_of_cols_top_maze:\n",
        "        #   print(\"the maze is no rectangular\")\n",
        "        #   raise SystemExit\n",
        "      return maze\n",
        "  except OSError:\n",
        "     print(\"there is problem with file\")\n",
        "     raise SystemExit   "
      ]
    },
    {
      "cell_type": "code",
      "source": [
        "if __name__ == \"__main__\":\n",
        "  file = read_file(\"sample_data/README.md\")\n",
        "  for row in file:\n",
        "    print (row)"
      ],
      "metadata": {
        "colab": {
          "base_uri": "https://localhost:8080/"
        },
        "id": "dWkXjgvf_EPO",
        "outputId": "9f4677f8-6b1b-4330-c9f4-67247bf4b0df"
      },
      "execution_count": 10,
      "outputs": [
        {
          "output_type": "stream",
          "name": "stdout",
          "text": [
            "['T', 'h', 'i', 's', ' ', 'd', 'i', 'r', 'e', 'c', 't', 'o', 'r', 'y', ' ', 'i', 'n', 'c', 'l', 'u', 'd', 'e', 's', ' ', 'a', ' ', 'f', 'e', 'w', ' ', 's', 'a', 'm', 'p', 'l', 'e', ' ', 'd', 'a', 't', 'a', 's', 'e', 't', 's', ' ', 't', 'o', ' ', 'g', 'e', 't', ' ', 'y', 'o', 'u', ' ', 's', 't', 'a', 'r', 't', 'e', 'd', '.']\n",
            "[]\n",
            "['*', ' ', ' ', ' ', '`', 'c', 'a', 'l', 'i', 'f', 'o', 'r', 'n', 'i', 'a', '_', 'h', 'o', 'u', 's', 'i', 'n', 'g', '_', 'd', 'a', 't', 'a', '*', '.', 'c', 's', 'v', '`', ' ', 'i', 's', ' ', 'C', 'a', 'l', 'i', 'f', 'o', 'r', 'n', 'i', 'a', ' ', 'h', 'o', 'u', 's', 'i', 'n', 'g', ' ', 'd', 'a', 't', 'a', ' ', 'f', 'r', 'o', 'm', ' ', 't', 'h', 'e', ' ', '1', '9', '9', '0', ' ', 'U', 'S']\n",
            "[' ', ' ', ' ', ' ', 'C', 'e', 'n', 's', 'u', 's', ';', ' ', 'm', 'o', 'r', 'e', ' ', 'i', 'n', 'f', 'o', 'r', 'm', 'a', 't', 'i', 'o', 'n', ' ', 'i', 's', ' ', 'a', 'v', 'a', 'i', 'l', 'a', 'b', 'l', 'e', ' ', 'a', 't', ':']\n",
            "[' ', ' ', ' ', ' ', 'h', 't', 't', 'p', 's', ':', '/', '/', 'd', 'e', 'v', 'e', 'l', 'o', 'p', 'e', 'r', 's', '.', 'g', 'o', 'o', 'g', 'l', 'e', '.', 'c', 'o', 'm', '/', 'm', 'a', 'c', 'h', 'i', 'n', 'e', '-', 'l', 'e', 'a', 'r', 'n', 'i', 'n', 'g', '/', 'c', 'r', 'a', 's', 'h', '-', 'c', 'o', 'u', 'r', 's', 'e', '/', 'c', 'a', 'l', 'i', 'f', 'o', 'r', 'n', 'i', 'a', '-', 'h', 'o', 'u', 's', 'i', 'n', 'g', '-', 'd', 'a', 't', 'a', '-', 'd', 'e', 's', 'c', 'r', 'i', 'p', 't', 'i', 'o', 'n']\n",
            "[]\n",
            "['*', ' ', ' ', ' ', '`', 'm', 'n', 'i', 's', 't', '_', '*', '.', 'c', 's', 'v', '`', ' ', 'i', 's', ' ', 'a', ' ', 's', 'm', 'a', 'l', 'l', ' ', 's', 'a', 'm', 'p', 'l', 'e', ' ', 'o', 'f', ' ', 't', 'h', 'e']\n",
            "[' ', ' ', ' ', ' ', '[', 'M', 'N', 'I', 'S', 'T', ' ', 'd', 'a', 't', 'a', 'b', 'a', 's', 'e', ']', '(', 'h', 't', 't', 'p', 's', ':', '/', '/', 'e', 'n', '.', 'w', 'i', 'k', 'i', 'p', 'e', 'd', 'i', 'a', '.', 'o', 'r', 'g', '/', 'w', 'i', 'k', 'i', '/', 'M', 'N', 'I', 'S', 'T', '_', 'd', 'a', 't', 'a', 'b', 'a', 's', 'e', ')', ',', ' ', 'w', 'h', 'i', 'c', 'h', ' ', 'i', 's']\n",
            "[' ', ' ', ' ', ' ', 'd', 'e', 's', 'c', 'r', 'i', 'b', 'e', 'd', ' ', 'a', 't', ':', ' ', 'h', 't', 't', 'p', ':', '/', '/', 'y', 'a', 'n', 'n', '.', 'l', 'e', 'c', 'u', 'n', '.', 'c', 'o', 'm', '/', 'e', 'x', 'd', 'b', '/', 'm', 'n', 'i', 's', 't', '/']\n",
            "[]\n",
            "['*', ' ', ' ', ' ', '`', 'a', 'n', 's', 'c', 'o', 'm', 'b', 'e', '.', 'j', 's', 'o', 'n', '`', ' ', 'c', 'o', 'n', 't', 'a', 'i', 'n', 's', ' ', 'a', ' ', 'c', 'o', 'p', 'y', ' ', 'o', 'f']\n",
            "[' ', ' ', ' ', ' ', '[', 'A', 'n', 's', 'c', 'o', 'm', 'b', 'e', \"'\", 's', ' ', 'q', 'u', 'a', 'r', 't', 'e', 't', ']', '(', 'h', 't', 't', 'p', 's', ':', '/', '/', 'e', 'n', '.', 'w', 'i', 'k', 'i', 'p', 'e', 'd', 'i', 'a', '.', 'o', 'r', 'g', '/', 'w', 'i', 'k', 'i', '/', 'A', 'n', 's', 'c', 'o', 'm', 'b', 'e', '%', '2', '7', 's', '_', 'q', 'u', 'a', 'r', 't', 'e', 't', ')', ';', ' ', 'i', 't']\n",
            "[' ', ' ', ' ', ' ', 'w', 'a', 's', ' ', 'o', 'r', 'i', 'g', 'i', 'n', 'a', 'l', 'l', 'y', ' ', 'd', 'e', 's', 'c', 'r', 'i', 'b', 'e', 'd', ' ', 'i', 'n']\n",
            "[]\n",
            "[' ', ' ', ' ', ' ', 'A', 'n', 's', 'c', 'o', 'm', 'b', 'e', ',', ' ', 'F', '.', ' ', 'J', '.', ' ', '(', '1', '9', '7', '3', ')', '.', ' ', \"'\", 'G', 'r', 'a', 'p', 'h', 's', ' ', 'i', 'n', ' ', 'S', 't', 'a', 't', 'i', 's', 't', 'i', 'c', 'a', 'l', ' ', 'A', 'n', 'a', 'l', 'y', 's', 'i', 's', \"'\", '.', ' ', 'A', 'm', 'e', 'r', 'i', 'c', 'a', 'n']\n",
            "[' ', ' ', ' ', ' ', 'S', 't', 'a', 't', 'i', 's', 't', 'i', 'c', 'i', 'a', 'n', '.', ' ', '2', '7', ' ', '(', '1', ')', ':', ' ', '1', '7', '-', '2', '1', '.', ' ', 'J', 'S', 'T', 'O', 'R', ' ', '2', '6', '8', '2', '8', '9', '9', '.']\n",
            "[]\n",
            "[' ', ' ', ' ', ' ', 'a', 'n', 'd', ' ', 'o', 'u', 'r', ' ', 'c', 'o', 'p', 'y', ' ', 'w', 'a', 's', ' ', 'p', 'r', 'e', 'p', 'a', 'r', 'e', 'd', ' ', 'b', 'y', ' ', 't', 'h', 'e']\n",
            "[' ', ' ', ' ', ' ', '[', 'v', 'e', 'g', 'a', '_', 'd', 'a', 't', 'a', 's', 'e', 't', 's', ' ', 'l', 'i', 'b', 'r', 'a', 'r', 'y', ']', '(', 'h', 't', 't', 'p', 's', ':', '/', '/', 'g', 'i', 't', 'h', 'u', 'b', '.', 'c', 'o', 'm', '/', 'a', 'l', 't', 'a', 'i', 'r', '-', 'v', 'i', 'z', '/', 'v', 'e', 'g', 'a', '_', 'd', 'a', 't', 'a', 's', 'e', 't', 's', '/', 'b', 'l', 'o', 'b', '/', '4', 'f', '6', '7', 'b', 'd', 'a', 'a', 'd', '1', '0', 'f', '4', '5', 'e', '3', '5', '4', '9', '9', '8', '4', 'e', '1', '7', 'e', '1', 'b', '3', '0', '8', '8', 'c', '7', '3', '1', '5', '0', '3', 'd', '/', 'v', 'e', 'g', 'a', '_', 'd', 'a', 't', 'a', 's', 'e', 't', 's', '/', '_', 'd', 'a', 't', 'a', '/', 'a', 'n', 's', 'c', 'o', 'm', 'b', 'e', '.', 'j', 's', 'o', 'n', ')', '.']\n"
          ]
        }
      ]
    },
    {
      "cell_type": "code",
      "source": [
        ""
      ],
      "metadata": {
        "id": "WISNoM3E_Xry"
      },
      "execution_count": null,
      "outputs": []
    }
  ]
}